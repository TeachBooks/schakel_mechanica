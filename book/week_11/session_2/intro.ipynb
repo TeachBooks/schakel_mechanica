{
 "cells": [
  {
   "cell_type": "markdown",
   "metadata": {},
   "source": [
    "(lesson11.2)=\n",
    "# Lesson November 14th\n",
    "\n",
    "\n",
    "During today's lesson it's demonstrated how you to use the displacement method.\n",
    "\n",
    "## Demonstration transforming stresses and Circle of Mohr\n",
    "\n",
    "Given the following structure.\n",
    "\n",
    "````"
   ]
  }
 ],
 "metadata": {
  "kernelspec": {
   "display_name": "base",
   "language": "python",
   "name": "python3"
  },
  "language_info": {
   "codemirror_mode": {
    "name": "ipython",
    "version": 3
   },
   "file_extension": ".py",
   "mimetype": "text/x-python",
   "name": "python",
   "nbconvert_exporter": "python",
   "pygments_lexer": "ipython3",
   "version": "3.9.18"
  }
 },
 "nbformat": 4,
 "nbformat_minor": 2
}
