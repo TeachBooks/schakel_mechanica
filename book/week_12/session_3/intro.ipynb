{
 "cells": [
  {
   "cell_type": "markdown",
   "metadata": {},
   "source": [
    "(lesson12.3)=\n",
    "# Lesson November 22nd\n",
    "\n",
    "During today's lesson you'll work on a complex exercise on the topic of the core of a cross-section. Please ask your questions regarding the [homework](homework12.3) as well!\n",
    "\n",
    "## Exercise Core\n",
    "\n",
    "Given is the following structure and cross-section:\n",
    "\n",
    "```{figure} intro_data/cross.svg\n",
    ":align: center\n",
    "```\n",
    "\n",
    "1. Find the relevant cross-sectional properties.\n",
    "2. Find the shear stresses at cross-section $\\text{A}$ and draw the shear stress distribution in this cross-section.\n",
    "\n",
    "````{admonition} Solution assignment 1\n",
    ":class: tip, dropdown\n",
    "\n",
    "Normal force centre is given by:\n",
    "```{figure} intro_data/NC.svg\n",
    ":align: center\n",
    "```\n",
    "\n",
    "- $A \\approx  21141 \\text{ mm}^2$\n",
    "- $I_{zz} \\approx 206.618 \\cdot 10^6 \\text{ mm}^4$\n",
    "- $I_{yy} \\approx 511.566 \\cdot 10^6 \\text{ mm}^4$\n",
    "\n",
    "````\n",
    "\n",
    "````{admonition} Solution assignment 2\n",
    ":class: tip, dropdown\n",
    "```{figure} intro_data/core.svg\n",
    ":align: center\n",
    "```\n",
    "````"
   ]
  },
  {
   "cell_type": "code",
   "execution_count": 7,
   "metadata": {
    "tags": [
     "remove-cell"
    ]
   },
   "outputs": [
    {
     "name": "stdout",
     "output_type": "stream",
     "text": [
      "21141.592653589792\n",
      "208.43448900183407\n",
      "206617643.7253769 511566296.6012823\n"
     ]
    }
   ],
   "source": [
    "import numpy as np\n",
    "A = 100*10+500*10+100*10*2+500*10+250*10*2+np.pi*100*10\n",
    "print(A)\n",
    "\n",
    "z_c = (100*10*50+500*10*100+2*100*10*150+500*10*200+2*250*10*300+np.pi*100*10*(400 - 2 / np.pi * 100))/A\n",
    "print(z_c)\n",
    "Izz = (1/12)*10*100**3 + 10*100*(z_c-50)**2 + (1/12)*500*10**3 + 500*10*(z_c-100)**2 + 2*(1/12)*10*100**3 + 2*10*100*(z_c-150)**2 + (1/12)*500*10**3 + 500*10*(z_c-200)**2 + 2*(1/12)*10/4*5*200**3 + 2*10*250*(z_c-300)**2 + (np.pi/2-4/np.pi)*100**3*10+np.pi*100*10*(400-z_c - 2/np.pi * 100)**2\n",
    "Iyy = (1/12)*100*10**3 + 1/12 * 10 * 500 **3 + 1/12 * 100 * 10 **3 * 2 + 100 * 10 * 250**2 * 2 + 1/12*10*500**3 + 1/12*10/3*5*150**3*2 + 10*250 * 2 * 175**2 + 1/2 * np.pi * 100 **3 * 10\n",
    "print(Izz, Iyy)"
   ]
  },
  {
   "cell_type": "code",
   "execution_count": 8,
   "metadata": {
    "tags": [
     "remove-cell"
    ]
   },
   "outputs": [
    {
     "data": {
      "text/plain": [
       "{a: 1.33333333333333, b: 324.898844331499}"
      ]
     },
     "metadata": {},
     "output_type": "display_data"
    },
    {
     "name": "stdout",
     "output_type": "stream",
     "text": [
      "-243.674133248624\n"
     ]
    }
   ],
   "source": [
    "import sympy as sym\n",
    "\n",
    "a, b = sym.symbols('a b')\n",
    "\n",
    "eq1 = sym.Eq(-z_c + 200, a * -250 + b)\n",
    "eq2 = sym.Eq(400-z_c, -100* a + b)\n",
    "\n",
    "sol = sym.solve((eq1, eq2), (a, b))\n",
    "display(sol)\n",
    "a_2 = sol[a]\n",
    "b_2 = sol[b]\n",
    "\n",
    "x = sym.symbols('x')\n",
    "y_2 = sym.solve(sym.Eq(a_2*x+b_2,0), x)[0]\n",
    "print(y_2)"
   ]
  },
  {
   "cell_type": "code",
   "execution_count": 9,
   "metadata": {
    "tags": [
     "remove-cell"
    ]
   },
   "outputs": [
    {
     "data": {
      "text/plain": [
       "{a: 0.400000000000000, b: -208.434489001834}"
      ]
     },
     "metadata": {},
     "output_type": "display_data"
    },
    {
     "name": "stdout",
     "output_type": "stream",
     "text": [
      "521.086222504585\n"
     ]
    }
   ],
   "source": [
    "import sympy as sym\n",
    "\n",
    "a, b = sym.symbols('a b')\n",
    "\n",
    "eq1 = sym.Eq(-z_c, a * 0 + b)\n",
    "eq2 = sym.Eq(-z_c+100, 250 * a + b)\n",
    "\n",
    "sol = sym.solve((eq1, eq2), (a, b))\n",
    "display(sol)\n",
    "a_4 = sol[a]\n",
    "b_4 = sol[b]\n",
    "\n",
    "x = sym.symbols('x')\n",
    "y_4 = sym.solve(sym.Eq(a_4*x+b_4,0), x)[0]\n",
    "print(y_4)"
   ]
  },
  {
   "cell_type": "code",
   "execution_count": 10,
   "metadata": {
    "tags": [
     "remove-cell"
    ]
   },
   "outputs": [
    {
     "name": "stdout",
     "output_type": "stream",
     "text": [
      "96.78860149912491 0\n",
      "99.3012678538699 -30.0802566342156\n",
      "0 -51.016702154414055\n",
      "-99.3012678538699 -30.0802566342156\n",
      "-46.4359818582007 46.8878287103703\n",
      "0 46.88782871037032\n",
      "46.4359818582007 46.8878287103703\n"
     ]
    }
   ],
   "source": [
    "\n",
    "\n",
    "e_y_1 = -Iyy / (A * -250)\n",
    "print(e_y_1, 0)\n",
    "e_y_2 = -Iyy / (A * y_2)\n",
    "e_z_2 = -Izz / (A * b_2)\n",
    "print(e_y_2, e_z_2)\n",
    "e_z_3 = -Izz / (A * (400 - z_c))\n",
    "print(0,e_z_3)\n",
    "print(-e_y_2, e_z_2)\n",
    "e_y_4 = -Iyy / (A * y_4)\n",
    "e_z_4 = -Izz / (A * b_4)\n",
    "print(e_y_4, e_z_4)\n",
    "e_z_5 = -Izz / (A * -z_c)\n",
    "print(0, e_z_5)\n",
    "print(-e_y_4, e_z_4)"
   ]
  }
 ],
 "metadata": {
  "kernelspec": {
   "display_name": "base",
   "language": "python",
   "name": "python3"
  },
  "language_info": {
   "codemirror_mode": {
    "name": "ipython",
    "version": 3
   },
   "file_extension": ".py",
   "mimetype": "text/x-python",
   "name": "python",
   "nbconvert_exporter": "python",
   "pygments_lexer": "ipython3",
   "version": "3.9.18"
  }
 },
 "nbformat": 4,
 "nbformat_minor": 2
}
