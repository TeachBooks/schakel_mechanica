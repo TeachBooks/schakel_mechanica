{
 "cells": [
  {
   "cell_type": "markdown",
   "metadata": {},
   "source": [
    "(lesson12.2)=\n",
    "# Lesson November 19th\n",
    "\n",
    "During today's lesson you'll work on a complex exercise on the topic of normal stresses. Please ask your questions regarding the [homework](homework12.2) as well!\n",
    "\n",
    "## Exercise shear stresses\n",
    "\n",
    "Given is the following structure and cross-section:\n",
    "\n",
    "```{figure} intro_data/structure.svg\n",
    ":align: center\n",
    "```\n",
    "\n",
    "1. Find the relevant cross-sectional properties.\n",
    "2. Find the shear stresses at cross-section $\\text{A}$ and draw the shear stress distribution in this cross-section.\n",
    "\n",
    "````{admonition} Solution assignment 1\n",
    ":class: tip, dropdown\n",
    "\n",
    "Normal force centre is given by:\n",
    "```{figure} intro_data/NC.svg\n",
    ":align: center\n",
    "```\n",
    "\n",
    "$I_{zz} = 90.1 \\cdot 10^6 $\n",
    "\n",
    "````\n",
    "\n",
    "````{admonition} Solution assignment 2\n",
    ":class: tip, dropdown\n",
    "```{figure} intro_data/shear.svg\n",
    ":align: center\n",
    "```\n",
    "````"
   ]
  }
 ],
 "metadata": {
  "kernelspec": {
   "display_name": "base",
   "language": "python",
   "name": "python3"
  },
  "language_info": {
   "codemirror_mode": {
    "name": "ipython",
    "version": 3
   },
   "file_extension": ".py",
   "mimetype": "text/x-python",
   "name": "python",
   "nbconvert_exporter": "python",
   "pygments_lexer": "ipython3",
   "version": "3.9.18"
  }
 },
 "nbformat": 4,
 "nbformat_minor": 2
}
