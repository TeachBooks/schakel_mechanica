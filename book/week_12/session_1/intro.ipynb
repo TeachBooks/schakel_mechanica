{
 "cells": [
  {
   "cell_type": "markdown",
   "metadata": {},
   "source": [
    "(lesson12.1)=\n",
    "# Lesson November 18th\n",
    "\n",
    "During today's lesson you'll work on a complex exercise on the topic of normal stresses. Please ask your questions regarding the [homework](homework12.1) as well!\n",
    "\n",
    "## Exercise normal stresses\n",
    "\n",
    "Given is the following structure and cross-section:\n"
   ]
  }
 ],
 "metadata": {
  "kernelspec": {
   "display_name": "base",
   "language": "python",
   "name": "python3"
  },
  "language_info": {
   "codemirror_mode": {
    "name": "ipython",
    "version": 3
   },
   "file_extension": ".py",
   "mimetype": "text/x-python",
   "name": "python",
   "nbconvert_exporter": "python",
   "pygments_lexer": "ipython3",
   "version": "3.9.18"
  }
 },
 "nbformat": 4,
 "nbformat_minor": 2
}
