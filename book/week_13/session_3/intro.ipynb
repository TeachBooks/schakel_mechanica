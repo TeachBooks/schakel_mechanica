{
 "cells": [
  {
   "cell_type": "markdown",
   "metadata": {},
   "source": [
    "```{index} Section forces in torsion structures; Class exercise\n",
    "```\n",
    "\n",
    "(lesson13.3)=\n",
    "# Lesson November 29th\n",
    "\n",
    "During today's lesson you'll work on a complex exercise on the topic of the Internal forces and displacement due to torsion. Please ask your questions regarding the [homework](homework13.3) as well!\n",
    "\n",
    "## Exercise Internal forces and displacement due to torsion\n",
    "\n",
    "Given is the following structure:\n",
    "\n",
    "\n"
   ]
  }
 ],
 "metadata": {
  "kernelspec": {
   "display_name": "base",
   "language": "python",
   "name": "python3"
  },
  "language_info": {
   "codemirror_mode": {
    "name": "ipython",
    "version": 3
   },
   "file_extension": ".py",
   "mimetype": "text/x-python",
   "name": "python",
   "nbconvert_exporter": "python",
   "pygments_lexer": "ipython3",
   "version": "3.9.18"
  }
 },
 "nbformat": 4,
 "nbformat_minor": 2
}
