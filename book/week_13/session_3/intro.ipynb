{
 "cells": [
  {
   "cell_type": "markdown",
   "metadata": {},
   "source": [
    "```{index} Section forces in torsion structures; Class exercise\n",
    "```\n",
    "\n",
    "(lesson13.3)=\n",
    "# Lesson November 29th\n",
    "\n",
    "During today's lesson you'll work on a complex exercise on the topic of the Internal forces and displacement due to torsion. Please ask your questions regarding the [homework](homework13.3) as well!\n",
    "\n",
    "## Exercise Internal forces and displacement due to torsion\n",
    "\n",
    "```{note}\n",
    "In this exercises, you'll be given the location of the [shear force centre](../../external/mechanics-BSc/book/stresses_displacements/cross-sectional/shear-force-centre.md). This topic will be treated in the homework of [next week Wednesday](homework14.2). The only thing you need to know now is that the torsional moment can be calculated using the lever arm with respect to this shear force centre.\n",
    "```\n",
    "\n",
    "Given is the following structure:\n",
    "\n",
    "```{figure} intro_data/structure.svg\n",
    ":align: center\n",
    "```\n",
    "\n",
    "It represents the Puente de la Mujer in Buenos Aires, Argentina. The cables are connected to the edge of the deck, leading to torsional forces.\n",
    "\n",
    "1. Draw the torsional moment distribution in the structure.\n",
    "2. Find the rotation around axis $x$ at $\\text{E}$\n",
    "\n",
    "````{admonition} Solution assignment 1\n",
    ":class: tip, dropdown\n",
    "\n",
    "```{figure} intro_data/Mt-line.svg\n",
    ":align: center\n",
    "```\n",
    "\n",
    "````\n",
    "\n",
    "````{admonition} Solution assignment 2\n",
    ":class: tip, dropdown\n",
    "\n",
    "$\\varphi_{\\text{E},x} = -1.1 \\cdot 10^-4\n",
    "\n",
    "````\n"
   ]
  }
 ],
 "metadata": {
  "kernelspec": {
   "display_name": "base",
   "language": "python",
   "name": "python3"
  },
  "language_info": {
   "codemirror_mode": {
    "name": "ipython",
    "version": 3
   },
   "file_extension": ".py",
   "mimetype": "text/x-python",
   "name": "python",
   "nbconvert_exporter": "python",
   "pygments_lexer": "ipython3",
   "version": "3.9.18"
  }
 },
 "nbformat": 4,
 "nbformat_minor": 2
}
