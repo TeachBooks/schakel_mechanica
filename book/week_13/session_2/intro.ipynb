{
 "cells": [
  {
   "cell_type": "markdown",
   "metadata": {},
   "source": [
    "(lesson13.2)=\n",
    "# Lesson November 26th\n",
    "\n",
    "During today's lesson you'll work on a complex exercise on the topic of the Transforming tensors graphically. Please ask your questions regarding the [homework](homework13.2) as well!\n",
    "\n",
    "## Exercise Transforming tensors graphically\n",
    "\n",
    "Given is the following stress element:\n",
    "\n",
    "```{figure} intro_data/stresses.svg\n",
    ":align: center\n",
    "```\n",
    "\n",
    "1. Find the principal stresses and their directions using Mohr's circle. Draw the stresses on a rotated square stress element.\n",
    "2. Find the stresses on a square stress element with horizontal and vertical faces.\n",
    "\n",
    "````{admonition} Solution assignment 1\n",
    ":class: tip, dropdown\n",
    "\n",
    "Normal force centre is given by:\n",
    "```{figure} intro_data/NC.svg\n",
    ":align: center\n",
    "```\n",
    "\n",
    "````\n",
    "\n",
    "````{admonition} Solution assignment 2\n",
    ":class: tip, dropdown\n",
    "\n",
    "\n",
    "````\n",
    "\n",
    "````{admonition} Solution assignment 3\n",
    ":class: tip, dropdown\n",
    "\n",
    "- $\\sigma_\\text{1, just below G} = +8.126 \\text{ MPa}$\n",
    "- $\\sigma_\\text{2, just below G} = -1.397 \\text{ MPa}$\n",
    "- $\\sigma_\\text{1, H} = +8.124 \\text{ MPa}$\n",
    "- $\\sigma_\\text{2, H} = +1.394 \\text{ MPa}$\n",
    "- $\\sigma_\\text{1, I} = 0.35 \\text{ MPa}$\n",
    "- $\\sigma_\\text{2, I} = -0.35 \\text{ MPa}$\n",
    "- $\\sigma_\\text{1, just right of C} = 1.76 \\text{ MPa}$\n",
    "- $\\sigma_\\text{2, just right of C} = -10.3 \\text{ MPa}$\n",
    "\n",
    "````"
   ]
  },
  {
   "cell_type": "code",
   "execution_count": 11,
   "metadata": {
    "tags": [
     "remove-cell"
    ]
   },
   "outputs": [
    {
     "name": "stdout",
     "output_type": "stream",
     "text": [
      "0.16374045801526718\n",
      "-0.06526717557251908\n",
      "8.12664477230201 -1.3966447723020092\n",
      "8.123828637385465 -1.3938286373854645\n",
      "0.35 -0.35\n",
      "1.7669739558628086 -10.296973955862807\n"
     ]
    }
   ],
   "source": [
    "Izz = 655e6\n",
    "\n",
    "tau_G = -3e3 * -250*10*286 / 20 / Izz\n",
    "print(tau_G)\n",
    "\n",
    "tau_C = -3e3 * -250*20*(286-400) / 40 / Izz\n",
    "print(tau_C)\n",
    "\n",
    "sigma_G = +6.73\n",
    "tau_G = -tau_G\n",
    "sigma_G_1 = 1/2 * (sigma_G + 0) + (1/2 * (sigma_G + 0)**2 + tau_G**2)**0.5\n",
    "sigma_G_2 = 1/2 * (sigma_G + 0) - (1/2 * (sigma_G + 0)**2 + tau_G**2)**0.5\n",
    "print(sigma_G_1, sigma_G_2)\n",
    "\n",
    "sigma_H = +6.73\n",
    "tau_G = 0\n",
    "sigma_H_1 = 1/2 * (sigma_H + 0) + (1/2 * (sigma_H + 0)**2 + tau_G**2)**0.5\n",
    "sigma_H_2 = 1/2 * (sigma_H + 0) - (1/2 * (sigma_H + 0)**2 + tau_G**2)**0.5\n",
    "print(sigma_H_1, sigma_H_2)\n",
    "\n",
    "sigma_I = 0\n",
    "tau_I = +0.35\n",
    "sigma_I_1 = 1/2 * (sigma_I + 0) + (1/2 * (sigma_I + 0)**2 + tau_I**2)**0.5\n",
    "sigma_I_2 = 1/2 * (sigma_I + 0) - (1/2 * (sigma_I + 0)**2 + tau_I**2)**0.5\n",
    "print(sigma_I_1, sigma_I_2)\n",
    "\n",
    "sigma_C = -8.53\n",
    "tau_C = -tau_C\n",
    "sigma_C_1 = 1/2 * (sigma_C + 0) + (1/2 * (sigma_C)**2 + tau_C**2)**0.5\n",
    "sigma_C_2 = 1/2 * (sigma_C + 0) - (1/2 * (sigma_C)**2 + tau_C**2)**0.5\n",
    "print(sigma_C_1, sigma_C_2)"
   ]
  }
 ],
 "metadata": {
  "kernelspec": {
   "display_name": "base",
   "language": "python",
   "name": "python3"
  },
  "language_info": {
   "codemirror_mode": {
    "name": "ipython",
    "version": 3
   },
   "file_extension": ".py",
   "mimetype": "text/x-python",
   "name": "python",
   "nbconvert_exporter": "python",
   "pygments_lexer": "ipython3",
   "version": "3.9.18"
  }
 },
 "nbformat": 4,
 "nbformat_minor": 2
}
