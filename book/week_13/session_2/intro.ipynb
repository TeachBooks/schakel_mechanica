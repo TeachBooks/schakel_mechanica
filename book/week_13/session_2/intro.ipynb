{
 "cells": [
  {
   "cell_type": "markdown",
   "metadata": {},
   "source": [
    "```{index} Mohr's circle; Class exercise\n",
    "```\n",
    "\n",
    "(lesson13.2)=\n",
    "# Lesson November 26th\n",
    "\n",
    "During today's lesson you'll work on a complex exercise on the topic of the Transforming tensors graphically. Please ask your questions regarding the [homework](homework13.2) as well!\n",
    "\n",
    "## Exercise Transforming tensors graphically\n",
    "\n",
    "Given is the following stress element:\n",
    "\n",
    "```{figure} intro_data/stresses.svg\n",
    ":align: center\n",
    "```\n",
    "\n",
    "1. Find the principal stresses and their directions using Mohr's circle. Draw the stresses on a rotated square stress element.\n",
    "2. Find the stresses on a square stress element with horizontal and vertical faces.\n",
    "\n",
    "````{admonition} Solution assignment 1\n",
    ":class: tip, dropdown\n",
    "\n",
    "```{figure} intro_data/hoofd.svg\n",
    ":align: center\n",
    "```\n",
    "\n",
    "````\n",
    "\n",
    "````{admonition} Solution assignment 2\n",
    ":class: tip, dropdown\n",
    "\n",
    "```{figure} intro_data/orth.svg\n",
    ":align: center\n",
    "```\n",
    "\n",
    "````\n"
   ]
  }
 ],
 "metadata": {
  "kernelspec": {
   "display_name": "base",
   "language": "python",
   "name": "python3"
  },
  "language_info": {
   "codemirror_mode": {
    "name": "ipython",
    "version": 3
   },
   "file_extension": ".py",
   "mimetype": "text/x-python",
   "name": "python",
   "nbconvert_exporter": "python",
   "pygments_lexer": "ipython3",
   "version": "3.9.18"
  }
 },
 "nbformat": 4,
 "nbformat_minor": 2
}
