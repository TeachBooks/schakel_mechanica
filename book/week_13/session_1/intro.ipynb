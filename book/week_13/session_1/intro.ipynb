{
 "cells": [
  {
   "cell_type": "markdown",
   "metadata": {},
   "source": [
    "(lesson13.1)=\n",
    "# Lesson November 25th\n",
    "\n",
    "During today's lesson you'll work on a complex exercise on the topic of the Transforming tensors. Please ask your questions regarding the [homework](homework12.3) as well!\n",
    "\n",
    "## Exercise Transforming tensors\n",
    "\n",
    "Given is the following structure and cross-section:\n",
    "\n",
    "```{figure} intro_data/structure.svg\n",
    ":align: center\n",
    "```\n",
    "\n",
    "1. Find the relevant cross-sectional properties.\n",
    "2. Find the normal and shear stresses just below $\\text{G}$, in $\\text{H}$, in $\\text{I}$ and just right of $\\text{C}$ in cross-section $\\text{A}$.\n",
    "3. Find the principal values of the stresses in the points just below $\\text{G}$, in $\\text{H}$, in $\\text{I}$ and just right of $\\text{C}$ in cross-section $\\text{A}$.\n",
    "\n",
    "````{admonition} Solution assignment 1\n",
    ":class: tip, dropdown\n",
    "\n",
    "Normal force centre is given by:\n",
    "```{figure} intro_data/NC.svg\n",
    ":align: center\n",
    "```\n",
    "\n",
    "- $A \\approx  17500 \\text{ mm}^2$\n",
    "- $I_{zz} \\approx 655 \\cdot 10^6 \\text{ mm}^4$\n",
    "\n",
    "````\n",
    "\n",
    "````{admonition} Solution assignment 2\n",
    ":class: tip, dropdown\n",
    "\n",
    "- $\\sigma_\\text{just below G} = +6.73 \\text{ MPa}$\n",
    "- $\\tau_\\text{just below G} = +0.164 \\text{ MPa}$\n",
    "- $\\sigma_\\text{H} = +6.73 \\text{ MPa}$\n",
    "- $\\tau_\\text{H} = 0 \\text{ MPa}$\n",
    "- $\\sigma_\\text{I} = 0 \\text{ MPa}$\n",
    "- $\\tau_\\text{I} = +0.35 \\text{ MPa}$\n",
    "- $\\sigma_\\text{just right of C} = -8.53 \\text{ MPa}$\n",
    "- $\\tau_\\text{just right of C} = -0.0653 \\text{ MPa}$\n",
    "\n",
    "````\n",
    "\n",
    "````{admonition} Solution assignment 3\n",
    ":class: tip, dropdown\n",
    "\n",
    "- $\\sigma_\\text{1, just below G} = +8.126 \\text{ MPa}$\n",
    "- $\\sigma_\\text{2, just below G} = -1.397 \\text{ MPa}$\n",
    "- $\\sigma_\\text{1, H} = +8.124 \\text{ MPa}$\n",
    "- $\\sigma_\\text{2, H} = +1.394 \\text{ MPa}$\n",
    "- $\\sigma_\\text{1, I} = 0.35 \\text{ MPa}\n",
    "- $\\sigma_\\text{2, I} = -0.35 \\text{ MPa}\n",
    "- $\\sigma_\\text{1, just right of C} = 1.76 \\text{ MPa}$\n",
    "- $\\sigma_\\text{2, just right of C} = -10.3 \\text{ MPa}$\n",
    "\n",
    "````"
   ]
  },
  {
   "cell_type": "code",
   "execution_count": 11,
   "metadata": {
    "tags": [
     "remove-cell"
    ]
   },
   "outputs": [
    {
     "name": "stdout",
     "output_type": "stream",
     "text": [
      "0.16374045801526718\n",
      "-0.06526717557251908\n",
      "8.12664477230201 -1.3966447723020092\n",
      "8.123828637385465 -1.3938286373854645\n",
      "0.35 -0.35\n",
      "1.7669739558628086 -10.296973955862807\n"
     ]
    }
   ],
   "source": [
    "Izz = 655e6\n",
    "\n",
    "tau_G = -3e3 * -250*10*286 / 20 / Izz\n",
    "print(tau_G)\n",
    "\n",
    "tau_C = -3e3 * -250*20*(286-400) / 40 / Izz\n",
    "print(tau_C)\n",
    "\n",
    "sigma_G = +6.73\n",
    "tau_G = -tau_G\n",
    "sigma_G_1 = 1/2 * (sigma_G + 0) + (1/2 * (sigma_G + 0)**2 + tau_G**2)**0.5\n",
    "sigma_G_2 = 1/2 * (sigma_G + 0) - (1/2 * (sigma_G + 0)**2 + tau_G**2)**0.5\n",
    "print(sigma_G_1, sigma_G_2)\n",
    "\n",
    "sigma_H = +6.73\n",
    "tau_G = 0\n",
    "sigma_H_1 = 1/2 * (sigma_H + 0) + (1/2 * (sigma_H + 0)**2 + tau_G**2)**0.5\n",
    "sigma_H_2 = 1/2 * (sigma_H + 0) - (1/2 * (sigma_H + 0)**2 + tau_G**2)**0.5\n",
    "print(sigma_H_1, sigma_H_2)\n",
    "\n",
    "sigma_I = 0\n",
    "tau_I = +0.35\n",
    "sigma_I_1 = 1/2 * (sigma_I + 0) + (1/2 * (sigma_I + 0)**2 + tau_I**2)**0.5\n",
    "sigma_I_2 = 1/2 * (sigma_I + 0) - (1/2 * (sigma_I + 0)**2 + tau_I**2)**0.5\n",
    "print(sigma_I_1, sigma_I_2)\n",
    "\n",
    "sigma_C = -8.53\n",
    "tau_C = -tau_C\n",
    "sigma_C_1 = 1/2 * (sigma_C + 0) + (1/2 * (sigma_C)**2 + tau_C**2)**0.5\n",
    "sigma_C_2 = 1/2 * (sigma_C + 0) - (1/2 * (sigma_C)**2 + tau_C**2)**0.5\n",
    "print(sigma_C_1, sigma_C_2)"
   ]
  }
 ],
 "metadata": {
  "kernelspec": {
   "display_name": "base",
   "language": "python",
   "name": "python3"
  },
  "language_info": {
   "codemirror_mode": {
    "name": "ipython",
    "version": 3
   },
   "file_extension": ".py",
   "mimetype": "text/x-python",
   "name": "python",
   "nbconvert_exporter": "python",
   "pygments_lexer": "ipython3",
   "version": "3.9.18"
  }
 },
 "nbformat": 4,
 "nbformat_minor": 2
}
