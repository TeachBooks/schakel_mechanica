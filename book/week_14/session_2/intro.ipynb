{
 "cells": [
  {
   "cell_type": "markdown",
   "metadata": {},
   "source": [
    "```{index} Shear force centre; Class exercise\n",
    "```\n",
    "\n",
    "(lesson14.2)=\n",
    "# Lesson December 3rd\n",
    "\n",
    "During today's lesson you'll work on a complex exercise on the topic of the Shear force centre. Please ask your questions regarding the [homework](homework14.2) as well!\n",
    "\n",
    "## Exercise Shear force centre\n",
    "\n",
    "Given is the following structure:\n",
    "\n",
    "```{figure} intro_data/structure.svg\n",
    ":align: center\n",
    "```\n",
    "\n",
    "1. Find the relevant cross-sectional properties.\n",
    "2. Find the maximum shear stress and its location.\n",
    "3. Find the principal stresses at that point and their directions. Draw a square stress element to represent those stresses.\n",
    "\n",
    "````{admonition} Solution assignment 1\n",
    ":class: tip, dropdown\n",
    "\n",
    "```{figure} intro_data/NC.svg\n",
    ":align: center\n",
    "```\n",
    "\n",
    "- $A = 9020 \\text{ mm}^2$\n",
    "- $I_{zz} = 3.72 \\cdot 10^6 \\text{ mm}^4 $\n",
    "- $I_t = 364 \\cdot 10^3 \\text{ mm}^4$\n",
    "\n",
    "````\n",
    "\n",
    "````{admonition} Solution assignment 2\n",
    ":class: tip, dropdown\n",
    "\n",
    "In segment $\\text{AD}$ in grey crosses:\n",
    "```{figure} intro_data/max.svg\n",
    ":align: center\n",
    "```\n",
    "\n",
    "$\\left| \\tau_{\\max} \\right| = 477.6 \\text{ MPa} $\n",
    "\n",
    "````\n",
    "\n",
    "````{admonition} Solution assignment 3\n",
    ":class: tip, dropdown\n",
    "\n",
    "```{figure} intro_data/max2.svg\n",
    ":align: center\n",
    "```\n",
    "\n",
    "````\n"
   ]
  }
 ],
 "metadata": {
  "kernelspec": {
   "display_name": "base",
   "language": "python",
   "name": "python3"
  },
  "language_info": {
   "codemirror_mode": {
    "name": "ipython",
    "version": 3
   },
   "file_extension": ".py",
   "mimetype": "text/x-python",
   "name": "python",
   "nbconvert_exporter": "python",
   "pygments_lexer": "ipython3",
   "version": "3.9.18"
  }
 },
 "nbformat": 4,
 "nbformat_minor": 2
}
