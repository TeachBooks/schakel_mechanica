{
 "cells": [
  {
   "cell_type": "markdown",
   "metadata": {},
   "source": [
    "```{index} Static indeterminate structures; Exam assignment\n",
    "```\n",
    "```{index} Continuum mechanics; Exam assignment\n",
    "```\n",
    "\n",
    "(exam2)=\n",
    "# Exam Tuesday December 10th\n",
    "\n",
    "Today you'll make the second exam assignment covering Statically indeterminate structures including its prerequisites and/or the first exam assignment covering Continuum mechanics including its prerequisites. For more information about the exam see [the assessment information in course information](exam-general)\n",
    "\n",
    "## Exam assignment 2 Statically indeterminate structures\n",
    "Your own submission and its grading will be available here after the exam.\n",
    "\n",
    "## Exam assignment 1 Continuum mechanics\n",
    "Your own submission and its grading will be available here after the exam."
   ]
  },
  {
   "cell_type": "code",
   "execution_count": 42,
   "metadata": {},
   "outputs": [
    {
     "data": {
      "text/latex": [
       "$\\displaystyle - 2.0 \\cdot 10^{-7} A_{v} - 5.0 \\cdot 10^{-6}$"
      ],
      "text/plain": [
       "-2.0e-7*A_v - 5.0e-6"
      ]
     },
     "metadata": {},
     "output_type": "display_data"
    },
    {
     "data": {
      "text/latex": [
       "$\\displaystyle - 2.0 \\cdot 10^{-6} A_{v}$"
      ],
      "text/plain": [
       "-2.0e-6*A_v"
      ]
     },
     "metadata": {},
     "output_type": "display_data"
    },
    {
     "data": {
      "text/latex": [
       "$\\displaystyle \\frac{40 F L + 125 F - 16 L M}{64 \\left(L + 5\\right)}$"
      ],
      "text/plain": [
       "(40*F*L + 125*F - 16*L*M)/(64*(L + 5))"
      ]
     },
     "metadata": {},
     "output_type": "display_data"
    },
    {
     "data": {
      "text/latex": [
       "$\\displaystyle 0$"
      ],
      "text/plain": [
       "0"
      ]
     },
     "metadata": {},
     "output_type": "display_data"
    }
   ],
   "source": [
    "import sympy as sym\n",
    "\n",
    "F, A_v, M = sym.symbols('F A_v M')\n",
    "EI = sym.symbols('EI')\n",
    "L = sym.symbols('L')\n",
    "phi = sym.nsimplify(1/3 * (F * 5 /2 - A_v * 4 - M) * L / EI)\n",
    "display(phi.subs(L,5).subs(F,64).subs(M,260).subs(EI, 100/3*1e6))\n",
    "\n",
    "w_A = phi*5 - A_v * (4/5) * 5 **3 / 3 / EI + sym.nsimplify(F * (5/2) ** 3 / 3 / EI + F * (5 / 2)**2 / 2 / EI * 2.5)\n",
    "display(w_A.subs(L,5).subs(F,64).subs(M,260).subs(EI, 100/3*1e6))\n",
    "\n",
    "A_v_sol = sym.solve(w_A, A_v)[0]\n",
    "display(sym.nsimplify(A_v_sol))\n",
    "display(A_v_sol.subs(L,5).subs(F,64).subs(M,260))"
   ]
  }
 ],
 "metadata": {
  "kernelspec": {
   "display_name": "base",
   "language": "python",
   "name": "python3"
  },
  "language_info": {
   "codemirror_mode": {
    "name": "ipython",
    "version": 3
   },
   "file_extension": ".py",
   "mimetype": "text/x-python",
   "name": "python",
   "nbconvert_exporter": "python",
   "pygments_lexer": "ipython3",
   "version": "3.9.18"
  }
 },
 "nbformat": 4,
 "nbformat_minor": 2
}
