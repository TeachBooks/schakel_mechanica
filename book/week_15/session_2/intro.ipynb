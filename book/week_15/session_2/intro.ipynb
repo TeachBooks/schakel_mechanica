{
 "cells": [
  {
   "cell_type": "markdown",
   "metadata": {},
   "source": [
    "```{index} Static indeterminate structures; Exam assignment\n",
    "```\n",
    "```{index} Continuum mechanics; Exam assignment\n",
    "```\n",
    "\n",
    "(lesson15.2)=\n",
    "# Lesson December 12th\n",
    "\n",
    "Today we'll discuss the results of the first [exam assignment 2 on Statically indeterminate structures and exam assignment 1 on Continuum mechanics](exam2).\n",
    "\n"
   ]
  }
 ],
 "metadata": {
  "kernelspec": {
   "display_name": "base",
   "language": "python",
   "name": "python3"
  },
  "language_info": {
   "codemirror_mode": {
    "name": "ipython",
    "version": 3
   },
   "file_extension": ".py",
   "mimetype": "text/x-python",
   "name": "python",
   "nbconvert_exporter": "python",
   "pygments_lexer": "ipython3",
   "version": "3.9.18"
  }
 },
 "nbformat": 4,
 "nbformat_minor": 2
}
